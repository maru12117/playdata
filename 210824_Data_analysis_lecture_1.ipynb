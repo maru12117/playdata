{
 "cells": [
  {
   "cell_type": "markdown",
   "id": "3b733fb2",
   "metadata": {},
   "source": [
    "## 웹크롤링 기초"
   ]
  },
  {
   "cell_type": "code",
   "execution_count": 52,
   "id": "69d505e2",
   "metadata": {},
   "outputs": [],
   "source": [
    "from selenium import webdriver\n",
    "from bs4 import BeautifulSoup\n",
    "import pandas as pd\n",
    "\n",
    "url=\"https://www.melon.com/chart/\"\n",
    "driver=webdriver.Chrome(\"C:/Users/pc/Main/Data_Analysis/chromedriver_win32/chromedriver.exe\")\n",
    "driver.get(url)\n",
    "\n",
    "html=driver.page_source\n",
    "soup=BeautifulSoup(html, \"html.parser\")"
   ]
  },
  {
   "cell_type": "code",
   "execution_count": 53,
   "id": "558adc76",
   "metadata": {},
   "outputs": [
    {
     "data": {
      "text/plain": [
       "50"
      ]
     },
     "execution_count": 53,
     "metadata": {},
     "output_type": "execute_result"
    }
   ],
   "source": [
    "songs=soup.select(\"tr.lst50\")\n",
    "len(songs)"
   ]
  },
  {
   "cell_type": "code",
   "execution_count": 54,
   "id": "b6766f9c",
   "metadata": {},
   "outputs": [],
   "source": [
    "songs_list=songs[0]"
   ]
  },
  {
   "cell_type": "code",
   "execution_count": 37,
   "id": "f8412dca",
   "metadata": {},
   "outputs": [
    {
     "data": {
      "text/plain": [
       "'신호등'"
      ]
     },
     "execution_count": 37,
     "metadata": {},
     "output_type": "execute_result"
    }
   ],
   "source": [
    "song=songs_list.select(\"div.ellipsis.rank03>a\")[0].text\n",
    "song"
   ]
  },
  {
   "cell_type": "code",
   "execution_count": 39,
   "id": "2024a8f5",
   "metadata": {},
   "outputs": [
    {
     "data": {
      "text/plain": [
       "'이무진'"
      ]
     },
     "execution_count": 39,
     "metadata": {},
     "output_type": "execute_result"
    }
   ],
   "source": [
    "singer = songs_list.select(\"div.ellipsis.rank02>a\")[0].text\n",
    "singer"
   ]
  },
  {
   "cell_type": "code",
   "execution_count": 55,
   "id": "8e3a62d6",
   "metadata": {},
   "outputs": [
    {
     "data": {
      "text/html": [
       "<div>\n",
       "<style scoped>\n",
       "    .dataframe tbody tr th:only-of-type {\n",
       "        vertical-align: middle;\n",
       "    }\n",
       "\n",
       "    .dataframe tbody tr th {\n",
       "        vertical-align: top;\n",
       "    }\n",
       "\n",
       "    .dataframe thead th {\n",
       "        text-align: right;\n",
       "    }\n",
       "</style>\n",
       "<table border=\"1\" class=\"dataframe\">\n",
       "  <thead>\n",
       "    <tr style=\"text-align: right;\">\n",
       "      <th></th>\n",
       "      <th>차트이름</th>\n",
       "      <th>순위</th>\n",
       "      <th>제목</th>\n",
       "      <th>가수</th>\n",
       "    </tr>\n",
       "  </thead>\n",
       "  <tbody>\n",
       "    <tr>\n",
       "      <th>0</th>\n",
       "      <td>Melon</td>\n",
       "      <td>1</td>\n",
       "      <td>신호등</td>\n",
       "      <td>이무진</td>\n",
       "    </tr>\n",
       "    <tr>\n",
       "      <th>1</th>\n",
       "      <td>Melon</td>\n",
       "      <td>2</td>\n",
       "      <td>MSG워너비 1집</td>\n",
       "      <td>MSG워너비(M.O.M)</td>\n",
       "    </tr>\n",
       "    <tr>\n",
       "      <th>2</th>\n",
       "      <td>Melon</td>\n",
       "      <td>3</td>\n",
       "      <td>NEXT EPISODE</td>\n",
       "      <td>AKMU (악뮤)</td>\n",
       "    </tr>\n",
       "    <tr>\n",
       "      <th>3</th>\n",
       "      <td>Melon</td>\n",
       "      <td>4</td>\n",
       "      <td>Next Level</td>\n",
       "      <td>aespa</td>\n",
       "    </tr>\n",
       "    <tr>\n",
       "      <th>4</th>\n",
       "      <td>Melon</td>\n",
       "      <td>5</td>\n",
       "      <td>Butter / Permission to Dance</td>\n",
       "      <td>방탄소년단</td>\n",
       "    </tr>\n",
       "  </tbody>\n",
       "</table>\n",
       "</div>"
      ],
      "text/plain": [
       "    차트이름  순위                            제목             가수\n",
       "0  Melon   1                           신호등            이무진\n",
       "1  Melon   2                     MSG워너비 1집  MSG워너비(M.O.M)\n",
       "2  Melon   3                  NEXT EPISODE      AKMU (악뮤)\n",
       "3  Melon   4                    Next Level          aespa\n",
       "4  Melon   5  Butter / Permission to Dance          방탄소년단"
      ]
     },
     "execution_count": 55,
     "metadata": {},
     "output_type": "execute_result"
    }
   ],
   "source": [
    "songs=soup.select(\"table>tbody>tr\")\n",
    "song_data=[]\n",
    "for i in range(len(songs)):\n",
    "    songs_list=songs[i]\n",
    "    song=songs_list.select(\"div.ellipsis.rank03>a\")[0].text\n",
    "    singer = songs_list.select(\"div.ellipsis.rank02>a\")[0].text\n",
    "    song_data.append(['Melon',i+1, song, singer])\n",
    "columns=[\"차트이름\",\"순위\",\"제목\",\"가수\"]\n",
    "song_data_df=pd.DataFrame(song_data, columns=columns)\n",
    "song_data_df.head()"
   ]
  },
  {
   "cell_type": "code",
   "execution_count": 56,
   "id": "2f593d52",
   "metadata": {},
   "outputs": [
    {
     "name": "stdout",
     "output_type": "stream",
     "text": [
      "<class 'pandas.core.frame.DataFrame'>\n",
      "RangeIndex: 100 entries, 0 to 99\n",
      "Data columns (total 4 columns):\n",
      " #   Column  Non-Null Count  Dtype \n",
      "---  ------  --------------  ----- \n",
      " 0   차트이름    100 non-null    object\n",
      " 1   순위      100 non-null    int64 \n",
      " 2   제목      100 non-null    object\n",
      " 3   가수      100 non-null    object\n",
      "dtypes: int64(1), object(3)\n",
      "memory usage: 3.2+ KB\n"
     ]
    }
   ],
   "source": [
    "song_data_df.info()"
   ]
  },
  {
   "cell_type": "code",
   "execution_count": null,
   "id": "68f68ec1",
   "metadata": {},
   "outputs": [],
   "source": []
  }
 ],
 "metadata": {
  "kernelspec": {
   "display_name": "Python 3",
   "language": "python",
   "name": "python3"
  },
  "language_info": {
   "codemirror_mode": {
    "name": "ipython",
    "version": 3
   },
   "file_extension": ".py",
   "mimetype": "text/x-python",
   "name": "python",
   "nbconvert_exporter": "python",
   "pygments_lexer": "ipython3",
   "version": "3.7.10"
  }
 },
 "nbformat": 4,
 "nbformat_minor": 5
}
