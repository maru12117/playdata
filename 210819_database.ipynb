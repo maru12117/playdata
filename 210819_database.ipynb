{
 "cells": [
  {
   "cell_type": "markdown",
   "id": "76eca8b7",
   "metadata": {},
   "source": [
    "# chapter 05 MySQL 유틸리티 사용법\n",
    "\n",
    "#사용자 관리\n",
    " - 최소권한의 원칙(Principles of Least Privileges)\n",
    "\n",
    "#권한(Privileges) vs 롤(Role)\n",
    "  - 롤: 관련 있는 권한을 묶어서 이름 붙인 것\n",
    "  - 롤의 역할\n",
    "    : 효율적, 동적인 권한 관리\n",
    "      계정과 권한을 느슨하게 연결(Loosely-Coupled)\n",
    "\n",
    " ## director계정 만들기\n",
    " - CREATE user director@'%'.....director 계정을 생성할건데..\\\n",
    "\tIDENTIFIED BY 'director'; .....password를 'director'로 지정함\\\n",
    " - GRANT ALL ON *.* TO director@'%'............director에게 모든 권한을 부여함\\\n",
    "      WITH GRANT OPTION;.............그런데 그 권한을 director가 다른사람에게 권한을 부여할 수 있도록 option을 부여함\n",
    "      \n",
    " ## Ceo계정 만들기\n",
    " - CREATE user ceo@'%'\\\n",
    "\tIDENTIFIED By 'ceo';..............ceo계정을 생성하고..password를 'ceo'로 지정\\\n",
    " - GRANT SELECT ON *.* To ceo@'%';.............ceo에게 모든 Database에 대한 SELECT 권한을 부여함\n",
    " \n",
    " ## Staff 계정 만들기\n",
    " - Create user staff@'%'\\\n",
    "\tIDENTIFIED By 'staff';..계정 생성하기\\\n",
    " - GRANT SELECT, INSERT, UPDATE, DELETE ON shopDB.* TO staff@'%';.....shopDB에 대한 S, I, U, D의 권한을 부여함\\\n",
    " - GRANT SELECT ON employees.* TO staff@'%'; ...........employees 데이터베이스에 대해서 SELECT 권한만을 부여함\n",
    "  "
   ]
  },
  {
   "cell_type": "markdown",
   "id": "2e0d0399",
   "metadata": {},
   "source": [
    "# chapter 06 SQL 기본\n",
    "\n",
    "## SELECT 문\n",
    "(재료 집합으로부터) 원하는 결과 집합을 정의/요청/기술하는 SQL문장\n",
    "\n",
    " #기본구조(순서가 있음)\n",
    " - SELECT : 정의\n",
    " - FROM : 재료집합 정의 (table, view, SQ, Join 등)\n",
    " - WHERE : filtering rows (조건식이 True 일때만 통과)\n",
    " - GROUP BY : 무리짓기 (같은 값을 갖는 행을 묶음)\n",
    " - HAVING : Filtering Groups (조건식이 True일때만 통과)\n",
    " - ORDER BY : 결과집합 정렬(값, 오름/내림차순 정리, 널 처리)\n",
    " \n",
    " ## 칼럼명 변경하기\n",
    " -  select concat(concat(first_name,\" \"), last_name) AS 사원이름, hire_date 입사일\\\n",
    "From employees.employees\n",
    "Limit 20;\n",
    " - first_name, last_name이 사원이름인 하나의 칼럼에 같이 붙여서 나옴\n",
    " \n",
    " ## between 연산자(키가 180이상 183이하인 usertbl구하기)\n",
    " - select name, height from usertbl where height>=180 and height<=183;\n",
    " - select name, height from usertbl where height BETWEEN 180 and 183;\n",
    " \n",
    " ## IN 연산자(addr칼럼이 경남, 전남, 경북인 것을 추출하기)\n",
    " - select name, addr from usertbl where addr=\"경남\" or addr=\"전남\" or addr=\"경북\";\n",
    " - select name, addr from usertbl where addr in (\"경남\", \"전남\", \"경북\");\n",
    " \n",
    " ## order by\n",
    "  - (결과물에는 영향을 미치지 않으나, 결과가 출력되는 순서를 조절함)=> 제일 뒤에 와야 함\n",
    " - select name, mDate From usertbl ORDER BY mDate; (오름차순)\n",
    " - select name, mDate From usertbl ORDER BY mDate DESC; (내림차순)\n",
    " \n",
    " ## distinct( 중복된 것을 버리기)\n",
    " - select DISTINCT addr from usertbl;\n",
    " \n",
    " ## Limit( 출력 개수를 제한함)\n",
    " - select emp_no, hire_date from employees ORDER BY hire_date Limit 5;\n",
    " \n",
    " ## count(*)...개수 확인하기\n",
    "  - select count(*) from usertbl;\\\n",
    "  ....select count(mobile1) from usertbl;(휴대폰이 있는 사용자의 수)\n",
    "  - select count(*) from buytbl;\n",
    " \n",
    " ## Group By...묶어서 사용하기\n",
    "  - select userid, SUM(amount) From buytbl GROUP BY userid;\n",
    "  - 별칭 사용 : select userid AS \"사용자 아이디\", sum(amount) AS \"총 구매 개수\" From buytbl GROUP BY userid;\n",
    "  - 총 구매액 : select userid AS \"사용자 아이디\", sum(price*amount) AS \"총 구매액\" From buytbl GROUP BY userid;\n",
    "  \n",
    "  ## 서브쿼리를 사용하여 출력하기\n",
    "  - select name, height from usertbl \\\n",
    "  where height=(select min(height) from usertbl) or height=(select MAX(height) from usertbl);\n",
    "  \n",
    "  ## 소합계와 총합계 한꺼번에 구하기\n",
    "  - select num, gropName, Sum(price*amount) AS \"비용\" from buytbl GROUP BY gropName, num WITH ROLLUP;\n",
    "  - select gropName, Sum(price*amount) AS \"비용\" from buytbl GROUP BY gropName WITH ROLLUP;\n",
    "  \n",
    " ## 중첩쿼리문\n",
    " \n",
    " 청바지를 구매한 적이 있는 사람의 아이디와 이름을 출력하세요\n",
    " 1) select userid, prodName from buytbl where prodName=\"청바지\"; (청바지를 구매한 적이 있는 사람)\n",
    " \n",
    " #주의해야하는 것이.. 서브쿼리에서 =연산자를 2개 이상 쓰면안되기 떄문에.. IN을 활용함\\\n",
    " 2) select userid, name from usertbl WHERE \"청바지\" IN (select prodName from buytbl where userid=usertbl.userID);\\\n",
    " 3) select userid, name from usertbl WHERE userid IN (select userid from buytbl where prodName=\"청바지\");"
   ]
  },
  {
   "cell_type": "markdown",
   "id": "5d2a425c",
   "metadata": {},
   "source": [
    "# 파이썬 연동(청바지 입은 사람의 name과 userid조회하기)"
   ]
  },
  {
   "cell_type": "code",
   "execution_count": 16,
   "id": "ca82a9ee",
   "metadata": {},
   "outputs": [
    {
     "name": "stdout",
     "output_type": "stream",
     "text": [
      "KBS 김범수\n",
      "EJW 은지원\n"
     ]
    }
   ],
   "source": [
    "import pymysql as sql\n",
    "\n",
    "conn, cur = None,None\n",
    "data1,data2=\"\",\"\"\n",
    "row=None\n",
    "conn=sql.connect(host=\"127.0.0.1\", user=\"root\", password=\"hp_8_8\", db=\"sqldb\", charset=\"utf8\")\n",
    "cur=conn.cursor()\n",
    "\n",
    "cur.execute('select userid, name from usertbl WHERE userid IN (select userid from buytbl where prodName=\"청바지\")')\n",
    "\n",
    "while True:\n",
    "    row=cur.fetchone()\n",
    "    if row==None:\n",
    "        break\n",
    "    data1 = row[0]\n",
    "    data2 = row[1]\n",
    "    \n",
    "    print(data1, data2)\n",
    "    \n",
    "conn.close()"
   ]
  }
 ],
 "metadata": {
  "kernelspec": {
   "display_name": "Python 3",
   "language": "python",
   "name": "python3"
  },
  "language_info": {
   "codemirror_mode": {
    "name": "ipython",
    "version": 3
   },
   "file_extension": ".py",
   "mimetype": "text/x-python",
   "name": "python",
   "nbconvert_exporter": "python",
   "pygments_lexer": "ipython3",
   "version": "3.7.10"
  }
 },
 "nbformat": 4,
 "nbformat_minor": 5
}
