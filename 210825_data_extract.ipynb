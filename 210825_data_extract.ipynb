{
 "cells": [
  {
   "cell_type": "code",
   "execution_count": 2,
   "id": "86f68ebf",
   "metadata": {},
   "outputs": [],
   "source": [
    "from selenium import webdriver\n",
    "import time\n",
    "from bs4 import BeautifulSoup\n",
    "import pandas as pd\n",
    "\n",
    "driver=webdriver.Chrome(\"C:/Users/pc/Main/Data_Analysis/chromedriver_win32/chromedriver.exe\")\n",
    "url=\"https://www.naver.com/\"\n",
    "driver.get(url)\n",
    "time.sleep(3)\n",
    "\n",
    "def naver_searching(word):\n",
    "    url=\"https://search.naver.com/search.naver?where=nexearch&sm=top_hty&fbm=1&ie=utf8&query=\"+word\n",
    "    return url\n",
    "\n",
    "word=\"코로나현황\"\n",
    "url=naver_searching(word)\n",
    "driver.get(url)\n",
    "time.sleep(3)\n",
    "\n",
    "def select_map(driver):\n",
    "    result_map=driver.find_element_by_css_selector(\"#_cs_production_type > div > div:nth-child(4) > div > div.info_top > div > div > div > ul > li:nth-child(1) > a\")\n",
    "    result_map.click()\n",
    "    time.sleep(3)\n",
    "\n",
    "select_map(driver)\n",
    "time.sleep(3)\n",
    "\n",
    "def get_content(driver):\n",
    "    html=driver.page_source\n",
    "    soup=BeautifulSoup(html, \"html.parser\")\n",
    "    areas=soup.select(\"div.local_info.type_increase\")\n",
    "    \n",
    "    area_infomation_result=[]\n",
    "    for i in range(len(areas)):\n",
    "        area=areas[i]\n",
    "        area_name=area.select(\"strong\")[0].text #지역\n",
    "        number=area.select(\"p\")[0].text #확진자 수\n",
    "        area_number = int(number.replace(\",\",\"\")) #확진자 수 형변환\n",
    "        area_infomation_result.append([area_name, area_number])\n",
    "    \n",
    "    return area_infomation_result\n",
    "        \n",
    "area_result=get_content(driver)\n",
    "\n",
    "#데이터프레임 변형 및 엑셀파일 생성\n",
    "import pandas as pd\n",
    "area_result_df=pd.DataFrame(area_result)\n",
    "area_result_df.columns=[\"지역\",\"확진자 수\"]\n",
    "area_result_df.to_excel(\"C:/Users/pc/Main/Mini_project/area_info.xlsx\", index=False)\n",
    "\n",
    "##sql에 저장하기\n",
    "import pymysql\n",
    "\n",
    "conn=pymysql.connect(host=\"127.0.0.1\", user=\"root\",password=\"hp_8_8\", db=\"choronadb\", charset=\"utf8\") #db변경필요\n",
    "cur=conn.cursor()\n",
    "\n",
    "create_table=\"CREATE TABLE IF NOT EXISTS chorona_kr (area char(3), area_number int)\" #테이블 생성\n",
    "cur.execute(create_table)\n",
    "\n",
    "for info in area_result:\n",
    "    area=info[0]\n",
    "    area_num = info[1]\n",
    "    sql=\"INSERT INTO chorona_kr VALUES ('{}', {})\".format(area, area_num)\n",
    "    cur.execute(sql)\n",
    "    \n",
    "conn.commit()\n",
    "conn.close()"
   ]
  },
  {
   "cell_type": "code",
   "execution_count": 67,
   "id": "f4009ecc",
   "metadata": {},
   "outputs": [
    {
     "data": {
      "text/plain": [
       "[['제주', 2494],\n",
       " ['서울', 76245],\n",
       " ['인천', 11305],\n",
       " ['광주', 3920],\n",
       " ['광주', 3920],\n",
       " ['경북', 6802],\n",
       " ['부산', 10999],\n",
       " ['대구', 13192],\n",
       " ['강원', 5242],\n",
       " ['경기', 68158],\n",
       " ['전남', 2479],\n",
       " ['충북', 4953],\n",
       " ['충남', 6547],\n",
       " ['충남', 6547],\n",
       " ['대전', 5413],\n",
       " ['세종', 944],\n",
       " ['전북', 3396],\n",
       " ['경남', 9615],\n",
       " ['울산', 3997]]"
      ]
     },
     "execution_count": 67,
     "metadata": {},
     "output_type": "execute_result"
    }
   ],
   "source": [
    "area_result"
   ]
  },
  {
   "cell_type": "code",
   "execution_count": 91,
   "id": "7eb0a5f0",
   "metadata": {},
   "outputs": [],
   "source": []
  },
  {
   "cell_type": "code",
   "execution_count": null,
   "id": "d74f5ff8",
   "metadata": {},
   "outputs": [],
   "source": []
  }
 ],
 "metadata": {
  "kernelspec": {
   "display_name": "Python 3",
   "language": "python",
   "name": "python3"
  },
  "language_info": {
   "codemirror_mode": {
    "name": "ipython",
    "version": 3
   },
   "file_extension": ".py",
   "mimetype": "text/x-python",
   "name": "python",
   "nbconvert_exporter": "python",
   "pygments_lexer": "ipython3",
   "version": "3.7.10"
  }
 },
 "nbformat": 4,
 "nbformat_minor": 5
}
