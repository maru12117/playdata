{
 "cells": [
  {
   "cell_type": "code",
   "execution_count": 1,
   "id": "a0b58f6f",
   "metadata": {},
   "outputs": [
    {
     "name": "stdout",
     "output_type": "stream",
     "text": [
      "HelloHelloHello\n"
     ]
    }
   ],
   "source": [
    "print(\"Hello\"*3)"
   ]
  },
  {
   "cell_type": "code",
   "execution_count": null,
   "id": "2f1e294b",
   "metadata": {},
   "outputs": [],
   "source": [
    "import keyword\n",
    "\n",
    "keyword.kwlist"
   ]
  },
  {
   "cell_type": "code",
   "execution_count": null,
   "id": "31ba469a",
   "metadata": {},
   "outputs": [],
   "source": [
    "0.5226e2"
   ]
  },
  {
   "cell_type": "code",
   "execution_count": null,
   "id": "5967a074",
   "metadata": {},
   "outputs": [],
   "source": [
    "0.526e-2"
   ]
  },
  {
   "cell_type": "code",
   "execution_count": null,
   "id": "79001341",
   "metadata": {},
   "outputs": [],
   "source": [
    "3462%17"
   ]
  },
  {
   "cell_type": "code",
   "execution_count": null,
   "id": "bac52785",
   "metadata": {},
   "outputs": [],
   "source": [
    "3462//17"
   ]
  },
  {
   "cell_type": "code",
   "execution_count": null,
   "id": "55740c51",
   "metadata": {},
   "outputs": [],
   "source": [
    "a=divmod(3462, 17)"
   ]
  },
  {
   "cell_type": "code",
   "execution_count": null,
   "id": "896acf50",
   "metadata": {},
   "outputs": [],
   "source": [
    "a[0]"
   ]
  },
  {
   "cell_type": "markdown",
   "id": "f63ccfa0",
   "metadata": {},
   "source": [
    "## format() 함수"
   ]
  },
  {
   "cell_type": "code",
   "execution_count": null,
   "id": "97143dfe",
   "metadata": {},
   "outputs": [],
   "source": [
    "\"{}\".format(10)"
   ]
  },
  {
   "cell_type": "code",
   "execution_count": null,
   "id": "bad92591",
   "metadata": {},
   "outputs": [],
   "source": [
    "\"{:+d},{:.2f}\".format(100, 10,35)"
   ]
  },
  {
   "cell_type": "code",
   "execution_count": null,
   "id": "3eeccb56",
   "metadata": {},
   "outputs": [],
   "source": [
    "\"{:.5f}\".format(52.5)"
   ]
  },
  {
   "cell_type": "markdown",
   "id": "78c8dd6c",
   "metadata": {},
   "source": [
    "##  대문자Upper(), 소문자lower()"
   ]
  },
  {
   "cell_type": "code",
   "execution_count": null,
   "id": "19837652",
   "metadata": {},
   "outputs": [],
   "source": [
    "a = \"Hello python I'm HONH hunpyo\"\n",
    "\n",
    "a.upper()"
   ]
  },
  {
   "cell_type": "code",
   "execution_count": null,
   "id": "3b01fd44",
   "metadata": {},
   "outputs": [],
   "source": [
    "a.lower()"
   ]
  },
  {
   "cell_type": "code",
   "execution_count": null,
   "id": "be0d71cc",
   "metadata": {},
   "outputs": [],
   "source": [
    "a,b = map(int, input(\"입력해주세요 : \").split())\n",
    "a"
   ]
  },
  {
   "cell_type": "code",
   "execution_count": null,
   "id": "7b99f3eb",
   "metadata": {},
   "outputs": [],
   "source": [
    "input_a = \"         안녕하세요                    오늘도 짜증나는 날이네                \"\n",
    "input_a.strip()"
   ]
  },
  {
   "cell_type": "code",
   "execution_count": null,
   "id": "d57fdaab",
   "metadata": {},
   "outputs": [],
   "source": [
    "b = \"abcdefghigklmnoopqrstuvbwxyz\"\n",
    "\n",
    "b.rfind(\"b\")"
   ]
  },
  {
   "cell_type": "markdown",
   "id": "e8010186",
   "metadata": {},
   "source": [
    "## format"
   ]
  },
  {
   "cell_type": "code",
   "execution_count": null,
   "id": "60232594",
   "metadata": {},
   "outputs": [],
   "source": [
    "\"{0},{1}\".format(10,100) #순서 배열"
   ]
  },
  {
   "cell_type": "code",
   "execution_count": null,
   "id": "080d8654",
   "metadata": {},
   "outputs": [],
   "source": [
    "job=\"공사장\"\n",
    "\"그의 이름은 {name}이고, 직업은 {job}이다..\".format(name=\"서준\", job=job)"
   ]
  },
  {
   "cell_type": "code",
   "execution_count": null,
   "id": "5faff234",
   "metadata": {},
   "outputs": [],
   "source": [
    "name=\"김한준\"\n",
    "job = \"선생님\"\n",
    "f'그의 이름은 {name}이고, 직업은 {job}이다' #f를 활용하여....."
   ]
  },
  {
   "cell_type": "code",
   "execution_count": null,
   "id": "1ee8a0e1",
   "metadata": {},
   "outputs": [],
   "source": [
    "a=\"1,2,3,4,5\".split(\",\") #나누기..\n",
    "a"
   ]
  },
  {
   "cell_type": "code",
   "execution_count": null,
   "id": "f8dbcd26",
   "metadata": {},
   "outputs": [],
   "source": [
    "for number in range(10):\n",
    "    if number % 2==0:\n",
    "        result=\"짝수\"\n",
    "    else:\n",
    "        result= \"홀수\"  \n",
    "    print(f'{number}는 {result}')"
   ]
  },
  {
   "cell_type": "code",
   "execution_count": 4,
   "id": "3ea12b90",
   "metadata": {},
   "outputs": [
    {
     "name": "stdout",
     "output_type": "stream",
     "text": [
      "학점을 입력하세요 : B\n",
      "학점을 입력하세요 : B+\n",
      "학점을 입력하세요 : C\n",
      "학점을 입력하세요 : C+\n",
      "학점을 입력하세요 : C0\n",
      "학점을 입력하세요 : C3\n",
      "학점을 입력하세요 : B\n",
      "학점을 입력하세요 : B+\n",
      "학점을 입력하세요 : B+\n",
      "학점을 입력하세요 : C\n",
      "{'B': 2, 'B+': 3, 'C': 2, 'C+': 1, 'C0': 1, 'C3': 1}\n"
     ]
    }
   ],
   "source": [
    "score_dict={}\n",
    "\n",
    "for i in range(10):\n",
    "    score = input(\"학점을 입력하세요 : \")\n",
    "    score_dict[score]=score_dict.get(score,0)+1\n",
    "print(score_dict)\n",
    "\n",
    "#score_dict.get(key, else)"
   ]
  },
  {
   "cell_type": "code",
   "execution_count": 5,
   "id": "9b758ecb",
   "metadata": {},
   "outputs": [
    {
     "data": {
      "text/plain": [
       "{1: 3, 2: 4, 6: 1, 8: 2, 4: 3, 3: 3, 9: 3, 5: 2, 7: 2}"
      ]
     },
     "execution_count": 5,
     "metadata": {},
     "output_type": "execute_result"
    }
   ],
   "source": [
    "numbers=[1,2,6,8,4,3,2,1,9,5,4,9,7,2,1,3,5,4,8,9,7,2,3]\n",
    "counter={}\n",
    "\n",
    "for number in numbers:\n",
    "    counter[number]=counter.get(number,0)+1\n",
    "counter"
   ]
  },
  {
   "cell_type": "code",
   "execution_count": 6,
   "id": "dd6cba6f",
   "metadata": {},
   "outputs": [
    {
     "data": {
      "text/plain": [
       "'안녕'"
      ]
     },
     "execution_count": 6,
     "metadata": {},
     "output_type": "execute_result"
    }
   ],
   "source": [
    "counter1={1:\"안녕\"}\n",
    "counter1.get(1) #value값이 나옴"
   ]
  },
  {
   "cell_type": "code",
   "execution_count": 14,
   "id": "393bcdbf",
   "metadata": {},
   "outputs": [],
   "source": [
    "charc = {\n",
    "    \"name\" : \"기사\",\n",
    "    \"level\" :12,\n",
    "    \"item\" :{\n",
    "        \"sword\":\"불꽃의 검\",\n",
    "        \"armor\":\"풀플레이트\"\n",
    "    },\n",
    "    \"skill\":[\"베기\", \"세게 베기\",\"아주 세게 베기\"]\n",
    "}"
   ]
  },
  {
   "cell_type": "code",
   "execution_count": 39,
   "id": "85a95ca3",
   "metadata": {},
   "outputs": [
    {
     "name": "stdout",
     "output_type": "stream",
     "text": [
      "name : 기사\n",
      "level : 12\n",
      "sword : 불꽃의 검\n",
      "armor : 풀플레이트\n",
      "skill : 베기\n",
      "skill : 세게 베기\n",
      "skill : 아주 세게 베기\n"
     ]
    }
   ],
   "source": [
    "for key in charc:\n",
    "    if type(charc[key]) is str:\n",
    "        print(key, ':',charc.get(key))\n",
    "    elif type(charc[key]) is int:\n",
    "        print(key, ':',charc.get(key))\n",
    "    elif type(charc[key]) is dict:\n",
    "        for key1 in charc[key]:\n",
    "            print(key1, \":\",charc[key][key1])\n",
    "    elif type(charc[key]) is list:\n",
    "        for key1 in charc[key]:\n",
    "            print(key,\":\",key1)"
   ]
  },
  {
   "cell_type": "code",
   "execution_count": 42,
   "id": "2469a3c9",
   "metadata": {},
   "outputs": [
    {
     "name": "stdout",
     "output_type": "stream",
     "text": [
      "name : 기사\n",
      "level : 12\n",
      "item : {'sword': '불꽃의 검', 'armor': '풀플레이트'}\n",
      "skill : ['베기', '세게 베기', '아주 세게 베기']\n"
     ]
    }
   ],
   "source": [
    "for key, value in charc.items():\n",
    "    print(key, \":\",value)"
   ]
  },
  {
   "cell_type": "code",
   "execution_count": null,
   "id": "2e0f47f4",
   "metadata": {},
   "outputs": [],
   "source": []
  }
 ],
 "metadata": {
  "kernelspec": {
   "display_name": "Python 3",
   "language": "python",
   "name": "python3"
  },
  "language_info": {
   "codemirror_mode": {
    "name": "ipython",
    "version": 3
   },
   "file_extension": ".py",
   "mimetype": "text/x-python",
   "name": "python",
   "nbconvert_exporter": "python",
   "pygments_lexer": "ipython3",
   "version": "3.7.10"
  }
 },
 "nbformat": 4,
 "nbformat_minor": 5
}
