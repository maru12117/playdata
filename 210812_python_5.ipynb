{
 "cells": [
  {
   "cell_type": "markdown",
   "id": "542b202d",
   "metadata": {},
   "source": [
    "## 클래스\n",
    "\n",
    "객체지향프로그램\n",
    "\n",
    " - 객체(object)가 프로그램 실행의 기본요소(조각, 구성)\n",
    " - 객체들 간의 상호작용으로 프로그램이 실행되고 흘러감\n",
    " \n",
    " cf) 절차적 프로그래밍\n",
    "   - 함수가 프로그램 실행의 기본요소\n",
    "   - 프로그램 시작점 : main함수\n",
    "   \n",
    " 클래스는 객체를 쉽고 편리하게 생성하기위해 만들어진 구문이다\n",
    " \n",
    " 인스턴스 : 클래스를 기반으로 생성한 객체\n",
    " \n",
    " 생성자 : 클래스 이름과 같은 인스턴스를 생성할때 만드는 함수"
   ]
  },
  {
   "cell_type": "code",
   "execution_count": 22,
   "id": "1fe5ad5b",
   "metadata": {},
   "outputs": [
    {
     "name": "stdout",
     "output_type": "stream",
     "text": [
      "이름 : 윤인성 한국어 점수:87 수학점수:98 영어점수:65 과학점수:56\n",
      "총점 : 306\n",
      "이름 : 이인혜 한국어 점수:56 수학점수:87 영어점수:98 과학점수:56\n",
      "총점 : 297\n",
      "이름 : 구지연 한국어 점수:56 수학점수:56 영어점수:89 과학점수:57\n",
      "총점 : 258\n"
     ]
    },
    {
     "data": {
      "text/plain": [
       "297"
      ]
     },
     "execution_count": 22,
     "metadata": {},
     "output_type": "execute_result"
    }
   ],
   "source": [
    "class Student:\n",
    "    def __init__(self, name, korean, math, english, science):\n",
    "        self.name = name\n",
    "        self.korean = korean\n",
    "        self.math = math\n",
    "        self.english = english\n",
    "        self.science = science\n",
    "        \n",
    "    def get_sum(self):\n",
    "        return self.korean+self.math+self.english+self.science\n",
    "        \n",
    "students = [\n",
    "    Student(\"윤인성\",87,98,65,56),\n",
    "    Student(\"이인혜\",56,87,98,56),\n",
    "    Student(\"구지연\",56,56,89,57)\n",
    "]\n",
    "\n",
    "for i in range(3):\n",
    "    print(\"이름 : {} 한국어 점수:{} 수학점수:{} 영어점수:{} 과학점수:{}\".format\\\n",
    "         (students[i].name, students[i].korean, students[i].math, students[i].english, students[i].science))\n",
    "    print(\"총점 : {}\".format(Student(students[i].name, students[i].korean, \\\n",
    "                                   students[i].math, students[i].english, students[i].science).get_sum()))\n",
    "    \n",
    "Student(\"이인혜\",56,87,98,56).get_sum()"
   ]
  },
  {
   "cell_type": "code",
   "execution_count": 84,
   "id": "3116e491",
   "metadata": {},
   "outputs": [
    {
     "name": "stdout",
     "output_type": "stream",
     "text": [
      "1번쨰 학생이 생성되었씁니다\n",
      "2번쨰 학생이 생성되었씁니다\n",
      "학생입니다\n",
      "이름: 홍길동\n"
     ]
    },
    {
     "data": {
      "text/plain": [
       "'홍길동'"
      ]
     },
     "execution_count": 84,
     "metadata": {},
     "output_type": "execute_result"
    }
   ],
   "source": [
    "class Student:\n",
    "    count=0\n",
    "    def __init__(self, name, korean, english):\n",
    "        self.name = name\n",
    "        self.korean = korean\n",
    "        self.english = english\n",
    "        Student.count+=1\n",
    "        print(\"{}번쨰 학생이 생성되었씁니다\".format( Student.count))\n",
    "    \n",
    "    def show(self):\n",
    "        print(\"학생입니다\")\n",
    "        print(\"이름: {}\".format(self.name))\n",
    "        \n",
    "    def __str__(self):\n",
    "        return \"이름은 {} 입니다\".format(self.name)\n",
    "\n",
    "#객체 생성\n",
    "hong=Student(\"홍길동\",67,78)\n",
    "sang=Student(\"이상연\",55,78)\n",
    "hong.show()\n",
    "\n",
    "hong.name #객체.정보"
   ]
  },
  {
   "cell_type": "code",
   "execution_count": 35,
   "id": "ca192593",
   "metadata": {},
   "outputs": [
    {
     "name": "stdout",
     "output_type": "stream",
     "text": [
      "나이 22\n"
     ]
    }
   ],
   "source": [
    "#인스탄스의 속성 추가가 가능함\n",
    "hong.age=22\n",
    "\n",
    "print(\"나이\", hong.age)"
   ]
  },
  {
   "cell_type": "code",
   "execution_count": 36,
   "id": "797c3421",
   "metadata": {},
   "outputs": [
    {
     "name": "stdout",
     "output_type": "stream",
     "text": [
      "32\n"
     ]
    }
   ],
   "source": [
    "def my_sum(x,y):\n",
    "    return x+y\n",
    "\n",
    "hong.sum = my_sum\n",
    "print(hong.sum(10, hong.age))"
   ]
  },
  {
   "cell_type": "code",
   "execution_count": 41,
   "id": "2acdd0fd",
   "metadata": {},
   "outputs": [
    {
     "name": "stdout",
     "output_type": "stream",
     "text": [
      "학생입니다\n",
      "이름: 장보고\n"
     ]
    }
   ],
   "source": [
    " jang=Student('장보고', 30,20)\n",
    "    \n",
    "jang.name, hong.name\n",
    "\n",
    "jang.show()"
   ]
  },
  {
   "cell_type": "markdown",
   "id": "d8895000",
   "metadata": {},
   "source": [
    "## 클래스의 추가적인 구문\n",
    "\n",
    "상속(Inheritance)\n",
    " - 어떤 클래스의 속성(attribute, property)과 기능(method)를 물려받아 새로운 클래스를 만드는 행위\n",
    " - 클래스를 확장하여 새로운 클래스를 정의함\n",
    " - 확장: 재사용, 추가, 수정(덮어씀, method overriding)한다는 의미에 가까움\n",
    "   * 상위 클래스로 갈수록 : 일반적, 추상적(ex: Student) ,공통적\n",
    "   * 하위 클래스로 갈수록 : 특수적, 구체적(ex: HighStudent), 개별적\n",
    " \n",
    "파이썬은 method overriding은 없음...그러나 필요하다면 구현할 수 있으나 다른 언어에 비해 약함\n",
    " - 함수 오버로딩 : 컴파일러에서만 유의미함(오버로딩이 안되면...함수명을 바꿔줘야함)\n",
    "   add(int, int)\n",
    "   add(float, float)\n",
    "\n",
    "객체지향언어의 3대 특징\n",
    " - 캡슐화\n",
    " - 상속\n",
    " - 다형성(형태가 다양함)"
   ]
  },
  {
   "cell_type": "code",
   "execution_count": 75,
   "id": "ac7212bb",
   "metadata": {},
   "outputs": [
    {
     "name": "stdout",
     "output_type": "stream",
     "text": [
      "<class '__main__.Student'>\n",
      "True\n"
     ]
    }
   ],
   "source": [
    "hong = Student('홍', 20,30)\n",
    "print(type(hong))\n",
    "\n",
    "#isinstance()는...........hong이 Student의 인스턴스인지 확인하는 method()\n",
    "print(isinstance(hong, Student))"
   ]
  },
  {
   "cell_type": "code",
   "execution_count": 78,
   "id": "8e986da6",
   "metadata": {},
   "outputs": [],
   "source": [
    "class HighStudent(Student):\n",
    "    \n",
    "    def __init__(self, name, korean, english, dream):\n",
    "        #super()를 사용하면..다 상속받아서 가져옴..\n",
    "        super().__init__(name, korean, english)\n",
    "        self.dream = dream\n",
    "        \n",
    "        \n",
    "    def hello(self): #기능 추가\n",
    "        print(\"안녕 난 고딩이야\")\n",
    "        \n",
    "    def show(self):\n",
    "        self.hello()\n",
    "        print(\"담에 또봐\")"
   ]
  },
  {
   "cell_type": "code",
   "execution_count": 77,
   "id": "a80fdb26",
   "metadata": {},
   "outputs": [
    {
     "name": "stdout",
     "output_type": "stream",
     "text": [
      "<class '__main__.HighStudent'>\n",
      "True\n",
      "True\n",
      "\n",
      "False\n",
      "\n",
      "True\n",
      "False\n"
     ]
    }
   ],
   "source": [
    "hong = HighStudent('홍', 20,30,'의적')\n",
    "\n",
    "print(type(hong))\n",
    "print(isinstance(hong, HighStudent))\n",
    "print(isinstance(hong, Student))\n",
    "print()\n",
    "print(type(hong)==type(Student))\n",
    "print()\n",
    "print(isinstance(jang, Student))\n",
    "print(isinstance(jang, HighStudent))"
   ]
  },
  {
   "cell_type": "code",
   "execution_count": 79,
   "id": "f73fa8de",
   "metadata": {},
   "outputs": [
    {
     "name": "stdout",
     "output_type": "stream",
     "text": [
      "안녕 난 고딩이야\n",
      "담에 또봐\n"
     ]
    }
   ],
   "source": [
    "hong.show()"
   ]
  },
  {
   "cell_type": "code",
   "execution_count": 65,
   "id": "e9b17545",
   "metadata": {},
   "outputs": [
    {
     "name": "stdout",
     "output_type": "stream",
     "text": [
      "학생입니다\n",
      "이름: 장보고\n"
     ]
    }
   ],
   "source": [
    "jang.show()"
   ]
  },
  {
   "cell_type": "code",
   "execution_count": 82,
   "id": "cb2887e2",
   "metadata": {},
   "outputs": [
    {
     "data": {
      "text/plain": [
       "'이름은 홍길동 입니다'"
      ]
     },
     "execution_count": 82,
     "metadata": {},
     "output_type": "execute_result"
    }
   ],
   "source": [
    "#str함수가 작동함\n",
    "str(hong)"
   ]
  },
  {
   "cell_type": "markdown",
   "id": "ac57bcfe",
   "metadata": {},
   "source": [
    "## 클래스 변수\n",
    " - 클래스명.변수를 사용하여 생성함\n",
    " - Student.count\n",
    "\n",
    "## 클래스 메서드\n",
    "\n",
    " - @classmethod데코레이터로 선언\n",
    " - 해당 클래스의 인스턴스 생성없이 바로 사용할 수 있는 장점"
   ]
  },
  {
   "cell_type": "code",
   "execution_count": 90,
   "id": "31faeeb2",
   "metadata": {},
   "outputs": [
    {
     "name": "stdout",
     "output_type": "stream",
     "text": [
      "1번쨰 학생이 생성되었씁니다\n",
      "2번쨰 학생이 생성되었씁니다\n",
      "===학생 목록====\n",
      "이름은 홍길동 입니다\n",
      "이름은 이상연 입니다\n",
      "================\n"
     ]
    }
   ],
   "source": [
    "class Student:\n",
    "    count=0\n",
    "    students=[]\n",
    "    #클래스 함수\n",
    "    @classmethod\n",
    "    def print(cls):\n",
    "        print(\"===학생 목록====\")\n",
    "        for i in cls.students:\n",
    "            print(str(i))\n",
    "        print(\"================\")\n",
    "    \n",
    "    #인스턴스 함수\n",
    "    def __init__(self, name, korean, english):\n",
    "        self.name = name\n",
    "        self.korean = korean\n",
    "        self.english = english\n",
    "        Student.count+=1\n",
    "        print(\"{}번쨰 학생이 생성되었씁니다\".format( Student.count))\n",
    "        Student.students.append(self)\n",
    "    \n",
    "    def show(self):\n",
    "        print(\"학생입니다\")\n",
    "        print(\"이름: {}\".format(self.name))\n",
    "        \n",
    "    def __str__(self):\n",
    "        return \"이름은 {} 입니다\".format(self.name)\n",
    "\n",
    "#객체 생성\n",
    "hong=Student(\"홍길동\",67,78)\n",
    "sang=Student(\"이상연\",55,78)\n",
    "\n",
    "Student.print()"
   ]
  },
  {
   "cell_type": "markdown",
   "id": "6e64a695",
   "metadata": {},
   "source": [
    "## 클래스 상속"
   ]
  },
  {
   "cell_type": "code",
   "execution_count": 113,
   "id": "22563029",
   "metadata": {},
   "outputs": [
    {
     "name": "stdout",
     "output_type": "stream",
     "text": [
      "전사이 공격합니다\n",
      "위저드가 스킬을 사용하여 공격합니다\n",
      "성기사가 멋진 공격합니다\n",
      "전사가 (2,5)로 이동하였습니다\n",
      "마법사가 (4,5)로 이동하였습니다\n",
      "성기사가 (5,5)로 이동하였습니다\n",
      "전사가 원형방패로 적의 공격을 막습니다\n",
      "마법사가 모습을 감춥니다\n",
      "성기사가 치유를 시전합니다\n",
      "\n",
      "전사이 공격합니다\n",
      "\n",
      "전사이 공격합니다\n",
      "성기사가 멋진 공격합니다\n",
      "\n"
     ]
    }
   ],
   "source": [
    "class Unit():\n",
    "    def __init__(self,char_class, hp, mp):\n",
    "        self.char_class = char_class\n",
    "        self.hp =hp\n",
    "        self.mp = mp\n",
    "        self.x, self.y =0,0\n",
    "        \n",
    "    def attack(self):\n",
    "        print(\"{}이 공격합니다\".format(self.char_class))\n",
    "        \n",
    "    def move(self, x,y):\n",
    "        self.x = x\n",
    "        self.y = y\n",
    "        print(\"{}가 ({},{})로 이동하였습니다\".format(self.char_class, self.x, self.y))\n",
    "        \n",
    "        \n",
    "class Melee(Unit):\n",
    "    def __init__(self, char_class, hp,mp,weapon):\n",
    "        super().__init__(char_class, hp, mp)\n",
    "        self.weapon = weapon\n",
    "\n",
    "class Fighter(Melee):\n",
    "    def __init__(self, hp,mp,weapon=\"검\", sheild=\"원형방패\"):\n",
    "        super().__init__(\"전사\", hp,mp,weapon)\n",
    "        self.sheild= sheild\n",
    "        \n",
    "    def use_sheild(self):\n",
    "        print(\"전사가 {}로 적의 공격을 막습니다\".format(self.sheild))\n",
    "        \n",
    "class Paladin(Melee):\n",
    "    def __init__(self, hp,mp,weapon):\n",
    "        super().__init__(\"성기사\", hp,mp,weapon)\n",
    "    \n",
    "    # Method Overriding: (상위클래스) 메소드 \n",
    "    def attack(self):\n",
    "        print(\"성기사가 멋진 공격합니다\")\n",
    "        \n",
    "    def heal(self):\n",
    "        print(\"성기사가 치유를 시전합니다\")\n",
    "        \n",
    "class Wizard(Unit):\n",
    "    def __init__(self, hp,mp,skill):\n",
    "        super().__init__(\"마법사\",hp, mp)\n",
    "        self.skill = skill\n",
    "    \n",
    "    def attack(self):\n",
    "        print(\"위저드가 스킬을 사용하여 공격합니다\")\n",
    "        \n",
    "    def hide(self):\n",
    "        print(\"마법사가 모습을 감춥니다\")\n",
    "        \n",
    "f = Fighter(100,20,\"검\")\n",
    "w = Wizard(50,100,[\"FireBall\",\"DrainLife\"])\n",
    "p = Paladin(80,50,\"장검\")\n",
    "\n",
    "units=[f,w,p]\n",
    "for unit in units:\n",
    "    unit.attack()\n",
    "\n",
    "f.move(2,5)\n",
    "w.move(4,5)\n",
    "p.move(5,5)\n",
    "    \n",
    "f.use_sheild()\n",
    "w.hide()\n",
    "p.heal()\n",
    "\n",
    "print()\n",
    "#전사만 공격하는 페이즈\n",
    "for unit in units:\n",
    "    if isinstance(unit, Fighter):\n",
    "        unit.attack()\n",
    "print()\n",
    "#근거리 유닛만 공격하는 페이즈\n",
    "for unit in units:\n",
    "    if isinstance(unit, Melee):\n",
    "        unit.attack()\n",
    "print()"
   ]
  },
  {
   "cell_type": "markdown",
   "id": "7bbc4de1",
   "metadata": {},
   "source": [
    "## 다중상속"
   ]
  },
  {
   "cell_type": "code",
   "execution_count": 134,
   "id": "1cb04be2",
   "metadata": {},
   "outputs": [
    {
     "name": "stdout",
     "output_type": "stream",
     "text": [
      "위저드가 스킬을 사용하여 공격합니다\n",
      "마법사가 모습을 감춥니다\n",
      "전사가 완드로 적의 공격을 막습니다\n"
     ]
    }
   ],
   "source": [
    "class FightMage(Fighter, Wizard):\n",
    "    def __init__(self, hp, mp, weapon):\n",
    "        Fighter.__init__(self,\"파이트메이지\", hp,mp,weapon)\n",
    "        \n",
    "fm = FightMage(90, 70, \"완드\")\n",
    "\n",
    "fm.attack()\n",
    "fm.hide()\n",
    "fm.use_sheild()"
   ]
  },
  {
   "cell_type": "code",
   "execution_count": 146,
   "id": "bea20e95",
   "metadata": {},
   "outputs": [
    {
     "data": {
      "text/plain": [
       "{1, 2}"
      ]
     },
     "execution_count": 146,
     "metadata": {},
     "output_type": "execute_result"
    }
   ],
   "source": [
    "a = [1,2,3,4,4]\n",
    "b = [3,4,5,5,6,7,8]\n",
    "a_set=set(a)\n",
    "b_set=set(b)\n",
    "set(a)-set(b)"
   ]
  },
  {
   "cell_type": "markdown",
   "id": "e1a383f2",
   "metadata": {},
   "source": [
    "## class 사용하여 로또번호 생성"
   ]
  },
  {
   "cell_type": "code",
   "execution_count": 153,
   "id": "7a3202b9",
   "metadata": {},
   "outputs": [
    {
     "data": {
      "text/plain": [
       "[20, 24, 44, 16, 3, 43]"
      ]
     },
     "execution_count": 153,
     "metadata": {},
     "output_type": "execute_result"
    }
   ],
   "source": [
    "def get_lotto_v5():\n",
    "    import numpy as np\n",
    "    return list(np.random.permutation(range(1, 45+1))[:6])\n",
    "\n",
    "get_lotto_v5()"
   ]
  },
  {
   "cell_type": "code",
   "execution_count": 150,
   "id": "9b5cd0a6",
   "metadata": {},
   "outputs": [
    {
     "data": {
      "text/plain": [
       "array([2, 4, 1, 3, 6, 5])"
      ]
     },
     "execution_count": 150,
     "metadata": {},
     "output_type": "execute_result"
    }
   ],
   "source": [
    "import numpy as np\n",
    "#순서바꾸는 shuffle\n",
    "np.random.permutation([1,2,3,4,5,6])"
   ]
  },
  {
   "cell_type": "code",
   "execution_count": 157,
   "id": "5806b02e",
   "metadata": {},
   "outputs": [
    {
     "data": {
      "text/plain": [
       "[[7, 44, 20, 11, 39, 41],\n",
       " [40, 22, 13, 43, 41, 12],\n",
       " [37, 38, 22, 26, 35, 9],\n",
       " [42, 3, 36, 16, 28, 23],\n",
       " [42, 1, 43, 6, 22, 30]]"
      ]
     },
     "execution_count": 157,
     "metadata": {},
     "output_type": "execute_result"
    }
   ],
   "source": [
    "class Lotto:\n",
    "    def __init__(self, n):\n",
    "        self.n = n\n",
    "        \n",
    "    def make_me_rich(self):\n",
    "        import random\n",
    "        \n",
    "        return [random.sample(range(1, 46),6) for _ in range(self.n)]\n",
    "    \n",
    "my_lotto=Lotto(5) #5개 만들기\n",
    "my_lotto.make_me_rich()"
   ]
  },
  {
   "cell_type": "code",
   "execution_count": null,
   "id": "00dccd1a",
   "metadata": {},
   "outputs": [],
   "source": []
  }
 ],
 "metadata": {
  "kernelspec": {
   "display_name": "Python 3",
   "language": "python",
   "name": "python3"
  },
  "language_info": {
   "codemirror_mode": {
    "name": "ipython",
    "version": 3
   },
   "file_extension": ".py",
   "mimetype": "text/x-python",
   "name": "python",
   "nbconvert_exporter": "python",
   "pygments_lexer": "ipython3",
   "version": "3.7.10"
  }
 },
 "nbformat": 4,
 "nbformat_minor": 5
}
