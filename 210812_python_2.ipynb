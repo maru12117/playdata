{
 "cells": [
  {
   "cell_type": "code",
   "execution_count": 4,
   "id": "c63480f2",
   "metadata": {},
   "outputs": [
    {
     "name": "stdout",
     "output_type": "stream",
     "text": [
      "이름:      James Bond\n",
      "직업: Instructor\n",
      "닉네임: James Bond\n"
     ]
    }
   ],
   "source": [
    "#15칸에서 오른쪽 정렬 ^는 오른쪽 정렬\n",
    "print('이름: {0:>15}\\n직업: {1:^10}\\n닉네임: {0}'.format('James Bond', 'Instructor'))"
   ]
  },
  {
   "cell_type": "code",
   "execution_count": 6,
   "id": "7e1cabb6",
   "metadata": {},
   "outputs": [
    {
     "data": {
      "text/plain": [
       "<enumerate at 0x1fe8bac1a48>"
      ]
     },
     "execution_count": 6,
     "metadata": {},
     "output_type": "execute_result"
    }
   ],
   "source": [
    "#enumerate사용하기\n",
    "a = [\"요소A\",\"요소B\",\"요소C\"]\n",
    "\n",
    "enumerate(a)"
   ]
  },
  {
   "cell_type": "code",
   "execution_count": 8,
   "id": "226824ba",
   "metadata": {},
   "outputs": [
    {
     "name": "stdout",
     "output_type": "stream",
     "text": [
      "0번쨰는 요소A입니다\n",
      "1번쨰는 요소B입니다\n",
      "2번쨰는 요소C입니다\n"
     ]
    }
   ],
   "source": [
    "for i, value in enumerate(a):\n",
    "    print(\"{0}번쨰는 {1}입니다\".format(i, value))"
   ]
  },
  {
   "cell_type": "code",
   "execution_count": 12,
   "id": "ee3fecd6",
   "metadata": {},
   "outputs": [
    {
     "name": "stdout",
     "output_type": "stream",
     "text": [
      "A번쨰는 값A입니다\n",
      "B번쨰는 값B입니다\n",
      "C번쨰는 값C입니다\n"
     ]
    }
   ],
   "source": [
    "b = {\"A\":\"값A\",\n",
    "    \"B\":\"값B\",\n",
    "    \"C\":\"값C\"}\n",
    "for key, value in b.items():\n",
    "    print(\"{0}번쨰는 {1}입니다\".format(key, value))"
   ]
  },
  {
   "cell_type": "markdown",
   "id": "3a5d61a1",
   "metadata": {},
   "source": [
    "## 예외처리"
   ]
  },
  {
   "cell_type": "code",
   "execution_count": 14,
   "id": "ec8204d7",
   "metadata": {},
   "outputs": [
    {
     "name": "stdout",
     "output_type": "stream",
     "text": [
      "정수를 입력해주세요 :11.5\n",
      "무언가가 잘못되었습니다\n"
     ]
    }
   ],
   "source": [
    "try:\n",
    "    number=int(input(\"정수를 입력해주세요 :\"))\n",
    "    print(\"원의 반지름\",number)\n",
    "    print(\"원의 둘레\",number*3.14)\n",
    "except:\n",
    "    print(\"무언가가 잘못되었습니다\") #어떤 오류가 발생하였을시...예외가 발생함"
   ]
  },
  {
   "cell_type": "code",
   "execution_count": 17,
   "id": "258a2d83",
   "metadata": {},
   "outputs": [
    {
     "name": "stdout",
     "output_type": "stream",
     "text": [
      "[52, 273, 56, '스파이', '103']\n",
      "[52, 273, 56, '103']\n"
     ]
    }
   ],
   "source": [
    "list_a = [52,273,56,\"스파이\",\"103\"]\n",
    "\n",
    "list_number=[]\n",
    "\n",
    "for i in list_a:\n",
    "    try:\n",
    "        float(i)\n",
    "        list_number.append(i)\n",
    "    except:\n",
    "        pass\n",
    "print(list_a)    \n",
    "print(list_number)"
   ]
  },
  {
   "cell_type": "code",
   "execution_count": 21,
   "id": "773ef8b7",
   "metadata": {},
   "outputs": [
    {
     "name": "stdout",
     "output_type": "stream",
     "text": [
      "정수를 입력해주세요 :11rk\n",
      "무언가가 잘못되었습니다\n"
     ]
    }
   ],
   "source": [
    "try:\n",
    "    number=int(input(\"정수를 입력해주세요 :\"))\n",
    "except:\n",
    "    print(\"무언가가 잘못되었습니다\") #어떤 오류가 발생하였을시...예외가 발생함\n",
    "else: #에러가 발생하지 않을때 실행할 코드\n",
    "    print(\"원의 반지름\",number)\n",
    "    print(\"원의 둘레\",number*3.14)"
   ]
  },
  {
   "cell_type": "code",
   "execution_count": 24,
   "id": "4925708f",
   "metadata": {},
   "outputs": [
    {
     "name": "stdout",
     "output_type": "stream",
     "text": [
      "정수를 입력해주세요 :e\n",
      "invalid literal for int() with base 10: 'e'\n",
      "일단 프로그램은 종료되었습니다\n"
     ]
    }
   ],
   "source": [
    "try:\n",
    "    number=int(input(\"정수를 입력해주세요 :\"))\n",
    "except Exception as e:\n",
    "    print(e) #어떤 오류가 발생하였을시...예외가 발생함\n",
    "else: #에러가 발생하지 않을때 실행할 코드\n",
    "    print(\"원의 반지름\",number)\n",
    "    print(\"원의 둘레\",number*3.14)\n",
    "finally:\n",
    "    print(\"일단 프로그램은 종료되었습니다\")"
   ]
  },
  {
   "cell_type": "code",
   "execution_count": 27,
   "id": "494318f5",
   "metadata": {},
   "outputs": [
    {
     "name": "stdout",
     "output_type": "stream",
     "text": [
      "정수를 입력해주세요 :fds\n",
      "invalid literal for int() with base 10: 'fds'\n",
      "일단 프로그램은 종료되었습니다\n"
     ]
    }
   ],
   "source": [
    "try:\n",
    "    number=int(input(\"정수를 입력해주세요 :\"))\n",
    "except ValueError as e:\n",
    "    print(e) #어떤 오류가 발생하였을시...예외가 발생함\n",
    "else: \n",
    "    print(\"원의 반지름\",number)\n",
    "    print(\"원의 둘레\",number*3.14)\n",
    "finally:\n",
    "    print(\"일단 프로그램은 종료되었습니다\")"
   ]
  },
  {
   "cell_type": "code",
   "execution_count": 32,
   "id": "fe185910",
   "metadata": {},
   "outputs": [
    {
     "name": "stdout",
     "output_type": "stream",
     "text": [
      "정수를 입력해주세요 :56\n",
      "list index out of range\n",
      "프로그램 종료!\n"
     ]
    }
   ],
   "source": [
    "list_a = [\"ab\",\"dfds\",\"443\",\"455\",65]\n",
    "\n",
    "try:\n",
    "    number=int(input(\"정수를 입력해주세요 :\"))\n",
    "    print(list_a[number])\n",
    "except ValueError as e:\n",
    "    print(e)\n",
    "except IndexError as e:\n",
    "    print(e)\n",
    "finally:\n",
    "    print(\"프로그램 종료!\")"
   ]
  },
  {
   "cell_type": "markdown",
   "id": "a38ec99d",
   "metadata": {},
   "source": [
    "## 재귀함수(자기 자신을 호출함)"
   ]
  },
  {
   "cell_type": "code",
   "execution_count": 34,
   "id": "e157f339",
   "metadata": {},
   "outputs": [
    {
     "data": {
      "text/plain": [
       "24"
      ]
     },
     "execution_count": 34,
     "metadata": {},
     "output_type": "execute_result"
    }
   ],
   "source": [
    "def factorial(n):\n",
    "    if n==0:\n",
    "        return 1\n",
    "    else:\n",
    "        return n*factorial(n-1)\n",
    "    \n",
    "factorial(4)"
   ]
  },
  {
   "cell_type": "code",
   "execution_count": null,
   "id": "d484e2da",
   "metadata": {},
   "outputs": [],
   "source": []
  }
 ],
 "metadata": {
  "kernelspec": {
   "display_name": "Python 3",
   "language": "python",
   "name": "python3"
  },
  "language_info": {
   "codemirror_mode": {
    "name": "ipython",
    "version": 3
   },
   "file_extension": ".py",
   "mimetype": "text/x-python",
   "name": "python",
   "nbconvert_exporter": "python",
   "pygments_lexer": "ipython3",
   "version": "3.7.10"
  }
 },
 "nbformat": 4,
 "nbformat_minor": 5
}
