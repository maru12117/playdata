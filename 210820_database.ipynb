{
 "cells": [
  {
   "cell_type": "markdown",
   "id": "cd3a88f2",
   "metadata": {},
   "source": [
    "1) 내가 현재쓰는 database 확인\n",
    " - select DATABASE()\n",
    " \n",
    " 2) select DATABASE() FROM dual; \n",
    " - select 12*20 FROM dual;, select 12*20; (사실상 결과값은 같음)\n",
    " \n",
    " 3) 테이블을 생성할떄...select를 활용하여 다른 테이블의 칼럼 데이터를 함께 가져옴\n",
    " - create table usertbl3 (age Int PRIMARY KEY DEFAULT 10, gender char(1) DEFAULT \"중\")\\\n",
    "   select name as \"이름\" , addr from usertbl;"
   ]
  },
  {
   "cell_type": "markdown",
   "id": "94afcec4",
   "metadata": {},
   "source": [
    " ## INSERT문\n",
    " \n",
    " 1) AUTO_INCREMENT\n",
    "  - create table testtbl2 (id int AUTO_INCREMENT PRIMARY KEY, username char(3), age int);\\\n",
    "    insert into testtbl2 values (null, \"노라\", 25);\\\n",
    "    insert into testtbl2 values (null,\"유나\", 22);\\\n",
    "    insert into testtbl2 values (null, \"유경\",21);\n",
    "\n",
    "    select * from testtbl2\n",
    "    \n",
    "  2) 대량의 샘플 데이터 생성(insert into --selecet문)\n",
    "  - create table testtbl4(id int, Fname varchar(50), Lname VARCHAR(50));\\\n",
    "    insert into testtbl4\n",
    "\tselect emp_no, first_name, last_name from employees.employees; \n",
    "    \n",
    "   3) create table--select를 활용하여 테이블 생성과 동시에 바로 사용 가능\n",
    "  - create table testtbl5\\\n",
    "    select emp_no, first_name, last_name from employees.employees;\n",
    "    \n",
    " ## 조건부 INSERT문\n",
    " \n",
    "  1) 먼저 테이블을 select문을 활요하여 만듦\n",
    "   - create table membertbl\\\n",
    "         select userid, name, addr from usertbl limit 3;\n",
    "         \n",
    "  2) userid를 기본키로 설정함\n",
    "   - ALTER table membertbl\\\n",
    "        ADD CONSTRAINT pk_membertbl PRIMARY KEY (userid);\n",
    "        ADD PRIMARY KEY (userid);\n",
    "        \n",
    "  3) 기본키가 중복되면..데이터가 수정되도록 함\n",
    "  - insert into membertbl values(\"BBK\", \"비비코\",\"미국\")\\\n",
    "    On DUPLICATE KEY UPDATE name=\"비비코\", addr=\"미국\";"
   ]
  },
  {
   "cell_type": "markdown",
   "id": "a913d585",
   "metadata": {},
   "source": [
    " ## UPDATE문\n",
    " \n",
    " 1) 기본 구문\n",
    "  - UPDATE testtbl4 set Lname=\"없음\" where Fname=\"kyoichi\";\n",
    "  \n",
    " 2) where을 생략하여 전체 열을 모두 변경함\n",
    "  - select * from buytbl;\n",
    "  - update buytbl set price = price*1.5;"
   ]
  },
  {
   "cell_type": "markdown",
   "id": "5ce10013",
   "metadata": {},
   "source": [
    " ## DELETE문\n",
    " \n",
    "  1) 기본구문\n",
    "  - delete from testtbl4 where fname=\"Aamer\";\n",
    "  \n",
    "  2) where절을 사용하여 특정부분만을 삭제해야함 !\n",
    "  \n",
    "  3) 대용량 테이블 삭제하기\n",
    "  - DELETE FROM table :오래 걸림\n",
    "  - DROP TABLE : 테이블 자체를 삭제함\n",
    "  - TRUNCATE TABLE : 테이블은 존재함 (빠름)"
   ]
  },
  {
   "cell_type": "markdown",
   "id": "e374e50f",
   "metadata": {},
   "source": [
    "## with문\n",
    "\n",
    "1) 각 지역별 큰 키인 사람 구하기\n",
    " - select name, max(height), addr from usertbl GROUP BY addr;\n",
    " \n",
    "2) 각 지역별 큰 키들 중에서 평균을 구하기\n",
    " - with abc(name, height, addr)\\\n",
    "    AS (select name, max(height), addr from usertbl GROUP BY addr)\\\n",
    "    select avg(height) AS \"각 지역별 큰키의 평균\" from abc;"
   ]
  },
  {
   "cell_type": "markdown",
   "id": "d7b7c86e",
   "metadata": {},
   "source": [
    "# chapter07 SQL고급\n",
    "\n",
    "## 조인\n",
    "1) usertbl의 정보와 buytbl의 정보를 결합하는 INNER JOIN을 가장 많이 씀\n",
    " \n",
    "2) 기본 구문\n",
    "  - use sqldb;\\\n",
    "    select * from buytbl\\\n",
    "\tinner join usertbl...(buttbl 테이블과 usertbl 테이블을 조인한다)\\\n",
    "\ton buytbl.userid= usertbl.userid;...(조인될 조건)\n",
    "    \n",
    "    \n",
    "  - select buytbl.userid, name, prodName, addr, mobile1 +mobile2 AS \"연락처\" from buytbl\\\n",
    "\tinner join usertbl\\\n",
    "    on buytbl.userid= usertbl.userid\\\n",
    "\t-- where buytbl.userid = \"kbs\"\\\n",
    "    ORDER BY num;\n",
    "    \n",
    "3) 별칭 써주기\n",
    "  -  select B.userid, name, prodName, addr, mobile1 +mobile2 AS \"연락처\" from buytbl\\\n",
    "      inner join usertbl B\\\n",
    "      on buytbl.userid= B.userid\\\n",
    "      where buytbl.userid = \"kbs\"\\\n",
    "      ORDER BY num;\n",
    "      \n",
    "  - select U.userid, name, prodName, addr, mobile1 +mobile2 AS \"연락처\" from buytbl B\\\n",
    "\tinner join usertbl U\\\n",
    "    on B.userid= U.userid\\\n",
    "    where buytbl.userid = \"kbs\"\\\n",
    "    ORDER BY num;\n",
    "    \n",
    "  - 조인이 가능한것만 출력\\\n",
    "    select U.userid, name\\\n",
    "    from usertbl U\\\n",
    "    WHERE EXISTS (\\\n",
    "    SELECT * from buytbl B\\\n",
    "    WHERE U.userid = B.userID);\n",
    " "
   ]
  },
  {
   "cell_type": "markdown",
   "id": "8ee12f8a",
   "metadata": {},
   "source": [
    "## 프로젝트 팀 정하기"
   ]
  },
  {
   "cell_type": "code",
   "execution_count": 92,
   "id": "c8390cd8",
   "metadata": {},
   "outputs": [
    {
     "name": "stdout",
     "output_type": "stream",
     "text": [
      "1팀 ('마우스', '책상')\n",
      "2팀 ('한혜찐', '볼펜')\n",
      "3팀 ('노트북', '나라')\n",
      "4팀 ('사랑이', '물티슈')\n",
      "5팀 ('물병', '노영심')\n"
     ]
    }
   ],
   "source": [
    "import random\n",
    "student=[\"사랑이\",\"마우스\",\"볼펜\",\"책상\",\"물티슈\",\"물병\",\"나라\",\"노트북\",\"한혜찐\",\"노영심\"]\n",
    "\n",
    "random.shuffle(student)\n",
    "list_student=[]\n",
    "while student:\n",
    "    if len(student)>=2:\n",
    "        student1=student.pop(random.randint(0,len(student)-1))\n",
    "        student2=student.pop(random.randint(0,len(student)-1))\n",
    "        list_student.append((student1, student2))\n",
    "    else:\n",
    "        student1=student.pop(random.randint(0,len(student)-1))\n",
    "        student2=\"\"\n",
    "        list_student.append((student1, student2))\n",
    "    \n",
    "count=1\n",
    "for i in list_student:\n",
    "    print(\"{}팀 {}\".format(count, i))\n",
    "    count+=1"
   ]
  },
  {
   "cell_type": "markdown",
   "id": "23b9d9f6",
   "metadata": {},
   "source": [
    "## python을 활용하여 SQL에 데이터 입력"
   ]
  },
  {
   "cell_type": "code",
   "execution_count": 13,
   "id": "77c5308d",
   "metadata": {},
   "outputs": [
    {
     "name": "stdout",
     "output_type": "stream",
     "text": [
      "사용자 ID를 입력하세요 :jkl\n",
      "이름을 입력하세요 :정길리\n",
      "생일연도를 입력하세요 :1998\n",
      "addr을 입력하세요 :경북\n",
      "mobile01입력하세요 :02\n",
      "mobile02입력하세요 :2365\n",
      "키를 입력하세요 :165\n",
      "생년월일을 입력하세요1998-10-05\n",
      "1998-10-05\n",
      "INSERT INTO usertbl VALUES ('jkl','정길리',1998,'경북','02','2365',165,'1998-10-05')\n",
      "INSERT INTO usertbl VALUES ('jkl','정길리',1998,'경북','02','2365',165,'1998-10-05')\n",
      "사용자 ID를 입력하세요 :\n",
      "완료\n"
     ]
    }
   ],
   "source": [
    "import pymysql\n",
    "\n",
    "conn, cur =None, None\n",
    "data1, data2, data3, data4, data5, data6,data7, data8 = \"\",\"\",\"\",\"\",\"\",\"\",\"\",\"\"\n",
    "sql=\"\"\n",
    "\n",
    "conn=pymysql.connect(host=\"127.0.0.1\", user=\"root\",password=\"hp_8_8\", db=\"sqldb\", charset=\"utf8\")\n",
    "cur = conn.cursor()\n",
    "\n",
    "while True:\n",
    "    data1=input(\"사용자 ID를 입력하세요 :\")\n",
    "    if data1==\"\":\n",
    "        break\n",
    "    data2=input(\"이름을 입력하세요 :\")\n",
    "    data3=input(\"생일연도를 입력하세요 :\")\n",
    "    data4=input(\"addr을 입력하세요 :\")\n",
    "    data5=input(\"mobile01입력하세요 :\")\n",
    "    data6=input(\"mobile02입력하세요 :\")\n",
    "    data7=input(\"키를 입력하세요 :\")\n",
    "    data8 = input(\"생년월일을 입력하세요\")\n",
    "    print(data8)\n",
    "    sql = \"INSERT INTO usertbl VALUES ('\"+data1+\"','\"+data2+\"',\"+data3+\",'\"+data4+\"','\"+data5+\"','\"+data6+\"',\"+data7+\",'\"+data8+\"')\"\n",
    "    print(sql)\n",
    "    cur.execute(sql)\n",
    "    print(sql)\n",
    "conn.commit()\n",
    "print(\"완료\")\n",
    "conn.close()"
   ]
  },
  {
   "cell_type": "code",
   "execution_count": 7,
   "id": "1aad017f",
   "metadata": {},
   "outputs": [
    {
     "name": "stdout",
     "output_type": "stream",
     "text": [
      "BBK 바비킴 1973 서울 010 000000 176 2013-05-05\n",
      "EJW 은지원 1972 경북 011 888888 174 2014-03-03\n",
      "JKW 조관우 1965 경기 018 999999 172 2010-10-10\n",
      "JYP 조용필 1950 경기 011 444444 166 2009-04-04\n",
      "KBS 김범수 1979 경남 011 222222 173 2012-04-04\n",
      "KKH 김경호 1971 전남 019 333333 177 2007-07-07\n",
      "LJB 임재범 1963 서울 016 666666 182 2009-09-09\n",
      "LSG 이승기 1987 서울 011 111111 182 2008-08-08\n",
      "SSK 성시경 1979 서울 None None 186 2013-12-12\n",
      "YJS 윤종신 1969 경남 None None 170 2005-05-05\n"
     ]
    }
   ],
   "source": [
    "import pymysql\n",
    "\n",
    "conn, cur =None, None\n",
    "data1, data2, data3, data4 = \"\",\"\",\"\",\"\"\n",
    "row=None\n",
    "\n",
    "conn=pymysql.connect(host=\"127.0.0.1\", user=\"root\",password=\"hp_8_8\", db=\"sqldb\", charset=\"utf8\")\n",
    "cur = conn.cursor()\n",
    "\n",
    "cur.execute(\"select * from usertbl\")\n",
    "while True:\n",
    "    row=cur.fetchone()\n",
    "    if row==None:\n",
    "        break\n",
    "    data1=row[0]\n",
    "    data2=row[1]\n",
    "    data3=row[2]\n",
    "    data4=row[3]\n",
    "    data5=row[4]\n",
    "    data6=row[5]\n",
    "    data7=row[6]\n",
    "    data8=row[7]\n",
    "    print(data1,data2,data3,data4,data5,data6,data7,data8)\n",
    "    \n",
    "conn.commit()\n",
    "conn.close()"
   ]
  },
  {
   "cell_type": "code",
   "execution_count": null,
   "id": "74a20465",
   "metadata": {},
   "outputs": [],
   "source": []
  }
 ],
 "metadata": {
  "kernelspec": {
   "display_name": "Python 3",
   "language": "python",
   "name": "python3"
  }
 },
 "nbformat": 4,
 "nbformat_minor": 5
}
